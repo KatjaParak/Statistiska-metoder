{
 "cells": [
  {
   "cell_type": "code",
   "execution_count": 1,
   "metadata": {},
   "outputs": [],
   "source": [
    "import pandas as pd\n",
    "from LinearRegression import LinearRegression\n",
    "import matplotlib.pyplot as plt \n",
    "import seaborn as sns\n",
    "\n",
    "df = pd.read_csv(\"Small-diameter-flow.csv\",index_col=0)\n",
    "lr = LinearRegression((df['Flow']), df.drop('Flow', axis=1))"
   ]
  },
  {
   "cell_type": "markdown",
   "metadata": {},
   "source": [
    "Scatter plots are used to provide a general illustration of the underlying relationship between features.<br>\n",
    "The **Kinematic-Flow**, **Geometric-Flow** and **Inertial-Flow** plots demonstrate positive correlation, while the **Observer-Flow** demonstrates no correlation."
   ]
  },
  {
   "cell_type": "code",
   "execution_count": 2,
   "metadata": {},
   "outputs": [
    {
     "data": {
      "image/png": "[encoded data removed]",
      "text/plain": [
       "<Figure size 1000x300 with 4 Axes>"
      ]
     },
     "metadata": {},
     "output_type": "display_data"
    }
   ],
   "source": [
    "fig, ax = plt.subplots(1, lr.d, figsize=(10,3), dpi =100)\n",
    "\n",
    "for i, feature in enumerate(df.columns[1:]):\n",
    "    sns.scatterplot(data=df, x=feature, y='Flow', ax=ax[i])\n",
    "    \n",
    "fig.tight_layout()"
   ]
  },
  {
   "cell_type": "markdown",
   "metadata": {},
   "source": [
    "The Pearson correlation coefficient is used in order to investigate whether correlation implies linear dependence.<br><br>\n",
    "According to correlation coefficients, one can assume strong linear relationships between **Flow** and **Kinematic**, **Geometric** and **Inertial** features. The correlation coefficient for the **Observer**, which is close to 0, demonstrates that there is no relationship, or that this relationship is non-linear. "
   ]
  },
  {
   "cell_type": "code",
   "execution_count": 3,
   "metadata": {},
   "outputs": [
    {
     "data": {
      "text/plain": [
       "Kinematic    0.863403\n",
       "Geometric    0.995794\n",
       "Inertial     0.903310\n",
       "Observer     0.181490\n",
       "Name: Flow, dtype: float64"
      ]
     },
     "execution_count": 3,
     "metadata": {},
     "output_type": "execute_result"
    }
   ],
   "source": [
    "df.corr()['Flow'][1:]"
   ]
  },
  {
   "cell_type": "markdown",
   "metadata": {},
   "source": [
    "The relevance of the regression - R-squared - reveals that approximately 99% of the variability in responce variable can be explained by the regression model. However, this value should be interpreted in the context and combined with other metrics due to R-squared-value's sensitivity to overfitting. <br><br>\n",
    "High R-squared value/low p-value combination indicates that the model fits the data well.\n"
   ]
  },
  {
   "cell_type": "code",
   "execution_count": 4,
   "metadata": {},
   "outputs": [
    {
     "name": "stdout",
     "output_type": "stream",
     "text": [
      "The variance: 0.00627\n",
      "The standard deviation: 0.07920\n",
      "The significance of the regression: 1.726518234856016e-139\n",
      "The relevance of the regression: 0.9971526073276518. \n"
     ]
    }
   ],
   "source": [
    "print(f\"The variance: {lr.variance:.5f}\")\n",
    "print(f\"The standard deviation: {lr.std_deviation:.5f}\")\n",
    "print(f\"The significance of the regression: {lr.p_value}\")\n",
    "print(f\"The relevance of the regression: {lr.Rsq}. \")"
   ]
  },
  {
   "cell_type": "markdown",
   "metadata": {},
   "source": [
    "R-squared value can be interpreted as the value for confidence interval, hence the level of significance is following:"
   ]
  },
  {
   "cell_type": "code",
   "execution_count": 5,
   "metadata": {},
   "outputs": [
    {
     "data": {
      "text/plain": [
       "0.003"
      ]
     },
     "execution_count": 5,
     "metadata": {},
     "output_type": "execute_result"
    }
   ],
   "source": [
    "lr.signif_level"
   ]
  },
  {
   "cell_type": "markdown",
   "metadata": {},
   "source": [
    "The p-values represent the significance of each feature's contribution to the model.<br><br>\n",
    "Because the p-values for all features are below the level of significance one can conclude that all features are statistically significant and should be retained. "
   ]
  },
  {
   "cell_type": "code",
   "execution_count": 6,
   "metadata": {},
   "outputs": [
    {
     "name": "stdout",
     "output_type": "stream",
     "text": [
      "P-value for Kinematic: 5.730580014551359e-236\n",
      "P-value for Geometric: 0.0\n",
      "P-value for Inertial: 1.1628066686844733e-241\n",
      "P-value for Observer: 2.3422411211740835e-44\n"
     ]
    }
   ],
   "source": [
    "lr.print_p_value"
   ]
  },
  {
   "cell_type": "code",
   "execution_count": 7,
   "metadata": {},
   "outputs": [
    {
     "name": "stdout",
     "output_type": "stream",
     "text": [
      "The confidence interval for Kinematic: [0.8815713143775908, 0.8584441055108235]\n",
      "The confidence interval for Geometric: [3.6110440964543264, 3.5952572749161704]\n",
      "The confidence interval for Inertial: [-0.7425543553683894, -0.761224808750305]\n",
      "The confidence interval for Observer: [0.01963681323627032, 0.014124194996046883]\n"
     ]
    }
   ],
   "source": [
    "lr.confidence_intervall"
   ]
  },
  {
   "cell_type": "markdown",
   "metadata": {},
   "source": [
    "The Pearson correlation coefficient between all pairs of features is used in order to investigate whether there is correlation between them.<br><br>\n",
    "Acccording to Pearson coefficient, there is a strong linear relationship between **Kinematic** and **Geometric**, **Kinematic** and **Inertial**, **Geometric** and **Inertial**.<br> The presence of collinearity makes it difficult to understand the true relationship between responce variable and features. "
   ]
  },
  {
   "cell_type": "code",
   "execution_count": 11,
   "metadata": {},
   "outputs": [
    {
     "name": "stdout",
     "output_type": "stream",
     "text": [
      "The Pearson correlation between Kinematic and Geometric: 0.8631350761065916\n",
      "The Pearson correlation between Kinematic and Inertial: 0.9686707504997815\n",
      "The Pearson correlation between Kinematic and Observer: 0.1032265894384398\n",
      "The Pearson correlation between Geometric and Inertial: 0.9183300308547002\n",
      "The Pearson correlation between Geometric and Observer: 0.17519913369993179\n",
      "The Pearson correlation between Inertial and Observer: 0.12198107336291036\n"
     ]
    }
   ],
   "source": [
    "lr.print_corr"
   ]
  },
  {
   "cell_type": "markdown",
   "metadata": {},
   "source": [
    "Is there an **Observer** bias in the data collected for the small-diameter flow measurements? <br><br>\n",
    "Because the p-value for **Observer** feature is below the level of significance one can conclude that the feature is statistically significant. \n"
   ]
  },
  {
   "cell_type": "code",
   "execution_count": 9,
   "metadata": {},
   "outputs": [
    {
     "name": "stdout",
     "output_type": "stream",
     "text": [
      "P-value for Kinematic: 5.730580014551359e-236\n",
      "P-value for Geometric: 0.0\n",
      "P-value for Inertial: 1.1628066686844733e-241\n",
      "P-value for Observer: 2.3422411211740835e-44\n"
     ]
    }
   ],
   "source": [
    "lr.print_p_value"
   ]
  }
 ],
 "metadata": {
  "kernelspec": {
   "display_name": "Python 3",
   "language": "python",
   "name": "python3"
  },
  "language_info": {
   "codemirror_mode": {
    "name": "ipython",
    "version": 3
   },
   "file_extension": ".py",
   "mimetype": "text/x-python",
   "name": "python",
   "nbconvert_exporter": "python",
   "pygments_lexer": "ipython3",
   "version": "3.12.6"
  }
 },
 "nbformat": 4,
 "nbformat_minor": 2
}
