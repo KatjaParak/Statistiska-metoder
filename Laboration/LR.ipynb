{
 "cells": [
  {
   "cell_type": "code",
   "execution_count": 7,
   "metadata": {},
   "outputs": [],
   "source": [
    "import pandas as pd\n",
    "from LinearRegression import LinearRegression\n",
    "\n",
    "df = pd.read_csv(\"Small-diameter-flow.csv\",index_col=0)\n",
    "lr = LinearRegression((df['Flow']), df.drop('Flow', axis=1))"
   ]
  },
  {
   "cell_type": "code",
   "execution_count": 8,
   "metadata": {},
   "outputs": [
    {
     "name": "stdout",
     "output_type": "stream",
     "text": [
      "The variance: 0.00627\n",
      "The standard deviation: 0.07920\n",
      "The significance of the regression: 1.726518234856016e-139\n",
      "The relevance of the regression: 0.9971526073276518. \n"
     ]
    }
   ],
   "source": [
    "print(f\"The variance: {lr.variance:.5f}\")\n",
    "print(f\"The standard deviation: {lr.std_deviation:.5f}\")\n",
    "print(f\"The significance of the regression: {lr.p_value}\")\n",
    "print(f\"The relevance of the regression: {lr.Rsq}. \")"
   ]
  },
  {
   "cell_type": "code",
   "execution_count": 9,
   "metadata": {},
   "outputs": [
    {
     "name": "stdout",
     "output_type": "stream",
     "text": [
      "P-value for Kinematic: 5.730580014551359e-236\n",
      "P-value for Geometric: 0.0\n",
      "P-value for Inertial: 1.1628066686844733e-241\n",
      "P-value for Observer: 2.3422411211740835e-44\n"
     ]
    }
   ],
   "source": [
    "lr.print_p_value"
   ]
  }
 ],
 "metadata": {
  "kernelspec": {
   "display_name": "Python 3",
   "language": "python",
   "name": "python3"
  },
  "language_info": {
   "codemirror_mode": {
    "name": "ipython",
    "version": 3
   },
   "file_extension": ".py",
   "mimetype": "text/x-python",
   "name": "python",
   "nbconvert_exporter": "python",
   "pygments_lexer": "ipython3",
   "version": "3.12.6"
  }
 },
 "nbformat": 4,
 "nbformat_minor": 2
}
